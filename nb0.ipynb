{
  "nbformat": 4,
  "nbformat_minor": 0,
  "metadata": {
    "colab": {
      "provenance": [],
      "mount_file_id": "1d8ctZIZoYPZkVKafpBw7uRwNMYe3lmvm",
      "authorship_tag": "ABX9TyPpHn7/277Ptgbwlpa2dpN+",
      "include_colab_link": true
    },
    "kernelspec": {
      "name": "python3",
      "display_name": "Python 3"
    },
    "language_info": {
      "name": "python"
    }
  },
  "cells": [
    {
      "cell_type": "markdown",
      "metadata": {
        "id": "view-in-github",
        "colab_type": "text"
      },
      "source": [
        "<a href=\"https://colab.research.google.com/github/neural-dragoman/src/blob/main/nb0.ipynb\" target=\"_parent\"><img src=\"https://colab.research.google.com/assets/colab-badge.svg\" alt=\"Open In Colab\"/></a>"
      ]
    },
    {
      "cell_type": "code",
      "source": [
        "!pip install xds\n",
        "import xds\n",
        "import os"
      ],
      "metadata": {
        "id": "pWIQ85rBrXvb",
        "colab": {
          "base_uri": "https://localhost:8080/"
        },
        "outputId": "aeaa6dbe-70fa-43ac-cde9-d60cf60ea5e4"
      },
      "execution_count": 1,
      "outputs": [
        {
          "output_type": "stream",
          "name": "stdout",
          "text": [
            "Collecting xds\n",
            "  Downloading xds-0.1.8-py3-none-any.whl (7.4 kB)\n",
            "Requirement already satisfied: scipy in /usr/local/lib/python3.10/dist-packages (from xds) (1.11.4)\n",
            "Requirement already satisfied: numpy<1.28.0,>=1.21.6 in /usr/local/lib/python3.10/dist-packages (from scipy->xds) (1.23.5)\n",
            "Installing collected packages: xds\n",
            "Successfully installed xds-0.1.8\n"
          ]
        }
      ]
    },
    {
      "cell_type": "code",
      "source": [
        "path = \"/content/drive/My Drive/07-25-14/\"\n",
        "filenames = os.listdir(path)\n",
        "data = xds.lab_data(path,filenames[0])\n",
        "spike = data.get_trials_data_spike_counts('R','gocue_time',0)"
      ],
      "metadata": {
        "colab": {
          "base_uri": "https://localhost:8080/"
        },
        "id": "nu3SEmikqMt4",
        "outputId": "c25dc5bb-47df-44c8-d3c5-beb15f8f07dc"
      },
      "execution_count": 4,
      "outputs": [
        {
          "output_type": "stream",
          "name": "stdout",
          "text": [
            "/content/drive/My Drive/07-25-14/Jango_20140725_IsoHandleHoriz_Utah10ImpEMGs_SN_001.mat\n",
            "Monkey: Jango\n",
            "Task: WF\n",
            "Collected on 7/25/2014 17:18:1.585 \n",
            "Raw file name is Jango_20140725_IsoHandleHoriz_Utah10ImpEMGs_SN_001\n",
            "The array is in M1\n",
            "There are 96 neural channels\n",
            "Sorted? 0\n",
            "There are 12 EMG channels\n",
            "Current bin width is 0.0010 seconds\n",
            "The name of each EMG channel:\n",
            "EMG_PT\n",
            "EMG_FCR\n",
            "EMG_APB\n",
            "EMG_FDP3\n",
            "EMG_FCU\n",
            "EMG_Brad\n",
            "EMG_EDC1\n",
            "EMG_SUP\n",
            "EMG_FDI\n",
            "EMG_ECU\n",
            "EMG_ECR\n",
            "EMG_APL\n",
            "The dataset lasts 900.7400 seconds\n",
            "There are 215 trials\n",
            "In 212 trials the monkey got reward\n"
          ]
        }
      ]
    },
    {
      "cell_type": "code",
      "source": [
        "len(spike)"
      ],
      "metadata": {
        "colab": {
          "base_uri": "https://localhost:8080/"
        },
        "id": "i4T_QeZKtqaa",
        "outputId": "5a31c514-89d8-4dbc-eb87-fbdf9c4b50f6"
      },
      "execution_count": 3,
      "outputs": [
        {
          "output_type": "execute_result",
          "data": {
            "text/plain": [
              "212"
            ]
          },
          "metadata": {},
          "execution_count": 3
        }
      ]
    },
    {
      "cell_type": "code",
      "source": [],
      "metadata": {
        "id": "ZN5luoIIuXAP"
      },
      "execution_count": null,
      "outputs": []
    }
  ]
}